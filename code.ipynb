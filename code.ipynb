{
  "nbformat": 4,
  "nbformat_minor": 0,
  "metadata": {
    "colab": {
      "name": "Untitled0.ipynb",
      "provenance": []
    },
    "kernelspec": {
      "name": "python3",
      "display_name": "Python 3"
    },
    "language_info": {
      "name": "python"
    },
    "accelerator": "GPU"
  },
  "cells": [
    {
      "cell_type": "code",
      "execution_count": null,
      "metadata": {
        "colab": {
          "base_uri": "https://localhost:8080/"
        },
        "id": "NuU0mtzBAhH5",
        "outputId": "9114ff3d-788b-4a70-ec22-df7851ab27a9"
      },
      "outputs": [
        {
          "output_type": "stream",
          "name": "stdout",
          "text": [
            "Mounted at /content/drive\n"
          ]
        }
      ],
      "source": [
        "from google.colab import drive\n",
        "drive.mount('/content/drive')"
      ]
    },
    {
      "cell_type": "code",
      "source": [
        "!apt-get install openjdk-8-jdk-headless -qq > /dev/null"
      ],
      "metadata": {
        "id": "Ompzo5J3AiDA"
      },
      "execution_count": null,
      "outputs": []
    },
    {
      "cell_type": "code",
      "source": [
        "!wget -q https://archive.apache.org/dist/spark/spark-3.0.0/spark-3.0.0-bin-hadoop3.2.tgz"
      ],
      "metadata": {
        "id": "bY5jn673IyjX"
      },
      "execution_count": null,
      "outputs": []
    },
    {
      "cell_type": "code",
      "source": [
        "!tar xf spark-3.0.0-bin-hadoop3.2.tgz"
      ],
      "metadata": {
        "id": "aiWUiqTMI6KY"
      },
      "execution_count": null,
      "outputs": []
    },
    {
      "cell_type": "code",
      "source": [
        "import os\n",
        "os.environ[\"JAVA_HOME\"] = \"/usr/lib/jvm/java-8-openjdk-amd64\"\n",
        "os.environ[\"SPARK_HOME\"] = \"/content/spark-3.0.0-bin-hadoop3.2\""
      ],
      "metadata": {
        "id": "KBYv4wNyJB1A"
      },
      "execution_count": null,
      "outputs": []
    },
    {
      "cell_type": "code",
      "source": [
        "!pip install -q findspark"
      ],
      "metadata": {
        "id": "CcYWA9GtKQZN"
      },
      "execution_count": null,
      "outputs": []
    },
    {
      "cell_type": "code",
      "source": [
        "import findspark\n",
        "findspark.init()"
      ],
      "metadata": {
        "id": "930WsVyxJFL_"
      },
      "execution_count": null,
      "outputs": []
    },
    {
      "cell_type": "code",
      "source": [
        "findspark.find()\n"
      ],
      "metadata": {
        "colab": {
          "base_uri": "https://localhost:8080/",
          "height": 35
        },
        "id": "dHDEcfP9JKll",
        "outputId": "a685c0fa-921c-48b1-9a26-067b0290614c"
      },
      "execution_count": null,
      "outputs": [
        {
          "output_type": "execute_result",
          "data": {
            "text/plain": [
              "'/content/spark-3.0.0-bin-hadoop3.2'"
            ],
            "application/vnd.google.colaboratory.intrinsic+json": {
              "type": "string"
            }
          },
          "metadata": {},
          "execution_count": 8
        }
      ]
    },
    {
      "cell_type": "code",
      "source": [
        "from pyspark.sql import SparkSession\n",
        "\n",
        "spark = SparkSession.builder\\\n",
        "        .master(\"local\")\\\n",
        "        .appName(\"Colab\")\\\n",
        "        .config('spark.ui.port', '4050')\\\n",
        "        .getOrCreate()"
      ],
      "metadata": {
        "id": "REU4hyrOL8A0"
      },
      "execution_count": null,
      "outputs": []
    },
    {
      "cell_type": "code",
      "source": [
        "spark"
      ],
      "metadata": {
        "colab": {
          "base_uri": "https://localhost:8080/",
          "height": 219
        },
        "id": "hvzTLCCDLexx",
        "outputId": "7a1b78ff-9b53-476c-870e-579518bb6977"
      },
      "execution_count": null,
      "outputs": [
        {
          "output_type": "execute_result",
          "data": {
            "text/plain": [
              "<pyspark.sql.session.SparkSession at 0x7f722d7e79d0>"
            ],
            "text/html": [
              "\n",
              "            <div>\n",
              "                <p><b>SparkSession - in-memory</b></p>\n",
              "                \n",
              "        <div>\n",
              "            <p><b>SparkContext</b></p>\n",
              "\n",
              "            <p><a href=\"http://6c71fe149ea1:4050\">Spark UI</a></p>\n",
              "\n",
              "            <dl>\n",
              "              <dt>Version</dt>\n",
              "                <dd><code>v3.0.0</code></dd>\n",
              "              <dt>Master</dt>\n",
              "                <dd><code>local</code></dd>\n",
              "              <dt>AppName</dt>\n",
              "                <dd><code>Colab</code></dd>\n",
              "            </dl>\n",
              "        </div>\n",
              "        \n",
              "            </div>\n",
              "        "
            ]
          },
          "metadata": {},
          "execution_count": 10
        }
      ]
    },
    {
      "cell_type": "code",
      "source": [
        "fireServiceCallDf=spark.read.csv(\"/content/drive/MyDrive/Project-4(AI)/Fire_Department_Calls_for_Service.csv\", header=True, inferSchema=True)"
      ],
      "metadata": {
        "id": "Vx-oTdW5Lqiz"
      },
      "execution_count": null,
      "outputs": []
    },
    {
      "cell_type": "code",
      "source": [
        "fireServiceCallDf.printSchema()"
      ],
      "metadata": {
        "colab": {
          "base_uri": "https://localhost:8080/"
        },
        "id": "YZSneS8BNkme",
        "outputId": "983962bc-24e8-41f9-d7b6-4cad385c6ffc"
      },
      "execution_count": null,
      "outputs": [
        {
          "output_type": "stream",
          "name": "stdout",
          "text": [
            "root\n",
            " |-- Call Number: integer (nullable = true)\n",
            " |-- Unit ID: string (nullable = true)\n",
            " |-- Incident Number: integer (nullable = true)\n",
            " |-- Call Type: string (nullable = true)\n",
            " |-- Call Date: string (nullable = true)\n",
            " |-- Watch Date: string (nullable = true)\n",
            " |-- Received DtTm: string (nullable = true)\n",
            " |-- Entry DtTm: string (nullable = true)\n",
            " |-- Dispatch DtTm: string (nullable = true)\n",
            " |-- Response DtTm: string (nullable = true)\n",
            " |-- On Scene DtTm: string (nullable = true)\n",
            " |-- Transport DtTm: string (nullable = true)\n",
            " |-- Hospital DtTm: string (nullable = true)\n",
            " |-- Call Final Disposition: string (nullable = true)\n",
            " |-- Available DtTm: string (nullable = true)\n",
            " |-- Address: string (nullable = true)\n",
            " |-- City: string (nullable = true)\n",
            " |-- Zipcode of Incident: integer (nullable = true)\n",
            " |-- Battalion: string (nullable = true)\n",
            " |-- Station Area: string (nullable = true)\n",
            " |-- Box: string (nullable = true)\n",
            " |-- Original Priority: string (nullable = true)\n",
            " |-- Priority: string (nullable = true)\n",
            " |-- Final Priority: integer (nullable = true)\n",
            " |-- ALS Unit: boolean (nullable = true)\n",
            " |-- Call Type Group: string (nullable = true)\n",
            " |-- Number of Alarms: integer (nullable = true)\n",
            " |-- Unit Type: string (nullable = true)\n",
            " |-- Unit sequence in call dispatch: integer (nullable = true)\n",
            " |-- Fire Prevention District: string (nullable = true)\n",
            " |-- Supervisor District: string (nullable = true)\n",
            " |-- Neighborhooods - Analysis Boundaries: string (nullable = true)\n",
            " |-- RowID: string (nullable = true)\n",
            " |-- case_location: string (nullable = true)\n",
            " |-- Analysis Neighborhoods: integer (nullable = true)\n",
            "\n"
          ]
        }
      ]
    },
    {
      "cell_type": "code",
      "source": [
        "fireServiceCallDf.count()"
      ],
      "metadata": {
        "colab": {
          "base_uri": "https://localhost:8080/"
        },
        "id": "yPs1orxxN-0Z",
        "outputId": "cd2424ee-f883-41e9-a7a7-57d019eb60d7"
      },
      "execution_count": null,
      "outputs": [
        {
          "output_type": "execute_result",
          "data": {
            "text/plain": [
              "5830039"
            ]
          },
          "metadata": {},
          "execution_count": 13
        }
      ]
    },
    {
      "cell_type": "code",
      "source": [
        "fireServiceCallDf.show(5)"
      ],
      "metadata": {
        "colab": {
          "base_uri": "https://localhost:8080/"
        },
        "id": "e5NDlHziOUGl",
        "outputId": "07df8fbc-0401-49d4-bec5-54fb729405e3"
      },
      "execution_count": null,
      "outputs": [
        {
          "output_type": "stream",
          "name": "stdout",
          "text": [
            "+-----------+-------+---------------+----------------+----------+----------+--------------------+--------------------+--------------------+--------------------+--------------------+--------------+-------------+----------------------+--------------------+--------------------+-------------+-------------------+---------+------------+----+-----------------+--------+--------------+--------+---------------+----------------+---------+------------------------------+------------------------+-------------------+------------------------------------+----------------+--------------------+----------------------+\n",
            "|Call Number|Unit ID|Incident Number|       Call Type| Call Date|Watch Date|       Received DtTm|          Entry DtTm|       Dispatch DtTm|       Response DtTm|       On Scene DtTm|Transport DtTm|Hospital DtTm|Call Final Disposition|      Available DtTm|             Address|         City|Zipcode of Incident|Battalion|Station Area| Box|Original Priority|Priority|Final Priority|ALS Unit|Call Type Group|Number of Alarms|Unit Type|Unit sequence in call dispatch|Fire Prevention District|Supervisor District|Neighborhooods - Analysis Boundaries|           RowID|       case_location|Analysis Neighborhoods|\n",
            "+-----------+-------+---------------+----------------+----------+----------+--------------------+--------------------+--------------------+--------------------+--------------------+--------------+-------------+----------------------+--------------------+--------------------+-------------+-------------------+---------+------------+----+-----------------+--------+--------------+--------+---------------+----------------+---------+------------------------------+------------------------+-------------------+------------------------------------+----------------+--------------------+----------------------+\n",
            "|  220381092|    E31|       22017753|          Alarms|02/07/2022|02/07/2022|02/07/2022 10:59:...|02/07/2022 11:01:...|02/07/2022 11:01:...|02/07/2022 11:03:...|02/07/2022 11:06:...|          null|         null|                  Fire|02/07/2022 11:16:...|1000 Block of CLE...|San Francisco|              94118|      B07|          31|7141|                3|       3|             3|    true|          Alarm|               1|   ENGINE|                             1|                       7|                  1|                      Inner Richmond|   220381092-E31|POINT (-122.47030...|                    11|\n",
            "|  210690030|    T03|       21030278|          Alarms|03/10/2021|03/09/2021|03/10/2021 12:16:...|03/10/2021 12:18:...|03/10/2021 12:19:...|03/10/2021 12:20:...|                null|          null|         null|                  Fire|03/10/2021 12:28:...|1300 Block of MAR...|San Francisco|              94102|      B02|          36|3111|                3|       3|             3|   false|          Alarm|               1|    TRUCK|                             3|                       2|                  6|                          Tenderloin|   210690030-T03|POINT (-122.41697...|                    36|\n",
            "|  203421272| BLS841|       20139667|Medical Incident|12/07/2020|12/07/2020|12/07/2020 11:26:...|12/07/2020 11:26:...|12/07/2020 11:26:...|12/07/2020 11:26:...|12/07/2020 11:37:...|          null|         null|                 Other|12/07/2020 12:18:...|1500 Block of LOM...|San Francisco|              94123|      B04|          16|3244|                2|       2|             2|   false|           null|               1|    CHIEF|                             1|                       4|                  2|                              Marina|203421272-BLS841|                null|                  null|\n",
            "|  220883274|    B03|       22040539|          Alarms|03/29/2022|03/29/2022|03/29/2022 10:23:...|03/29/2022 10:25:...|03/29/2022 10:25:...|03/29/2022 10:28:...|03/29/2022 10:32:...|          null|         null|                  Fire|03/29/2022 10:33:...|100 Block of SOUT...|San Francisco|              94110|      B03|          08|2173|                3|       3|             3|   false|          Alarm|               1|    CHIEF|                             3|                     6.0|                  9|                      Bernal Heights|   220883274-B03|POINT (-122.42231...|                     2|\n",
            "|  213602525|    T10|       21160001|  Structure Fire|12/26/2021|12/26/2021|12/26/2021 11:30:...|12/26/2021 11:32:...|12/26/2021 11:34:...|12/26/2021 11:38:...|                null|          null|         null|                  Fire|12/26/2021 11:46:...|200 Block of COLE ST|San Francisco|              94117|      B05|          21|4534|                3|       3|             3|   false|          Alarm|               1|    TRUCK|                             4|                       5|                  5|                   Lone Mountain/USF|   213602525-T10|POINT (-122.45094...|                    18|\n",
            "+-----------+-------+---------------+----------------+----------+----------+--------------------+--------------------+--------------------+--------------------+--------------------+--------------+-------------+----------------------+--------------------+--------------------+-------------+-------------------+---------+------------+----+-----------------+--------+--------------+--------+---------------+----------------+---------+------------------------------+------------------------+-------------------+------------------------------------+----------------+--------------------+----------------------+\n",
            "only showing top 5 rows\n",
            "\n"
          ]
        }
      ]
    },
    {
      "cell_type": "markdown",
      "source": [
        "How many different calls you made to the fire department "
      ],
      "metadata": {
        "id": "3kweY3-aPc6f"
      }
    },
    {
      "cell_type": "code",
      "source": [
        "fireServiceCallDf.select(\"Call Type\").show(10)"
      ],
      "metadata": {
        "colab": {
          "base_uri": "https://localhost:8080/"
        },
        "id": "OGxPUnHjOYLe",
        "outputId": "b142e9ef-b0c2-43d1-d793-933e211dd5e1"
      },
      "execution_count": null,
      "outputs": [
        {
          "output_type": "stream",
          "name": "stdout",
          "text": [
            "+----------------+\n",
            "|       Call Type|\n",
            "+----------------+\n",
            "|          Alarms|\n",
            "|          Alarms|\n",
            "|Medical Incident|\n",
            "|          Alarms|\n",
            "|  Structure Fire|\n",
            "|  Structure Fire|\n",
            "|Medical Incident|\n",
            "|           Other|\n",
            "|          Alarms|\n",
            "|Medical Incident|\n",
            "+----------------+\n",
            "only showing top 10 rows\n",
            "\n"
          ]
        }
      ]
    },
    {
      "cell_type": "markdown",
      "source": [
        "Describing the column"
      ],
      "metadata": {
        "id": "hHjnajU9Q9GR"
      }
    },
    {
      "cell_type": "code",
      "source": [
        "fireServiceCallDf.describe().show()"
      ],
      "metadata": {
        "colab": {
          "base_uri": "https://localhost:8080/"
        },
        "id": "AFVeDHo3PXqK",
        "outputId": "671043b7-6f2e-4297-91bf-b377adb7247f"
      },
      "execution_count": null,
      "outputs": [
        {
          "output_type": "stream",
          "name": "stdout",
          "text": [
            "+-------+--------------------+------------------+--------------------+--------------------+----------+----------+--------------------+--------------------+--------------------+--------------------+--------------------+--------------------+--------------------+----------------------+--------------------+--------------------+-----------+-------------------+---------+------------------+------------------+------------------+------------------+------------------+--------------------+-------------------+---------+------------------------------+------------------------+-------------------+------------------------------------+-------------+--------------------+----------------------+\n",
            "|summary|         Call Number|           Unit ID|     Incident Number|           Call Type| Call Date|Watch Date|       Received DtTm|          Entry DtTm|       Dispatch DtTm|       Response DtTm|       On Scene DtTm|      Transport DtTm|       Hospital DtTm|Call Final Disposition|      Available DtTm|             Address|       City|Zipcode of Incident|Battalion|      Station Area|               Box| Original Priority|          Priority|    Final Priority|     Call Type Group|   Number of Alarms|Unit Type|Unit sequence in call dispatch|Fire Prevention District|Supervisor District|Neighborhooods - Analysis Boundaries|        RowID|       case_location|Analysis Neighborhoods|\n",
            "+-------+--------------------+------------------+--------------------+--------------------+----------+----------+--------------------+--------------------+--------------------+--------------------+--------------------+--------------------+--------------------+----------------------+--------------------+--------------------+-----------+-------------------+---------+------------------+------------------+------------------+------------------+------------------+--------------------+-------------------+---------+------------------------------+------------------------+-------------------+------------------------------------+-------------+--------------------+----------------------+\n",
            "|  count|             5830039|           5830039|             5830039|             5830039|   5830039|   5830039|             5830039|             5830039|             5830039|             5401684|             4532450|             1535731|             1399235|               5830039|             5752967|             5830039|    5821393|            5815367|  5830039|           5827641|           5829573|           5804501|           5830036|           5830039|             3014214|            5830039|  5830039|                       5829967|                 5830039|            5830039|                             5830039|      5830039|             5829087|               5812511|\n",
            "|   mean|1.1669862614988647E8| 74.70414343387876|1.1550143027884033E7|                null|      null|      null|                null|                null|                null|                null|                null|                null|                null|                  null|                null|                null|       null|  94113.50346555944|     null| 18.11939240194288| 4076.444426375375|2.7586639126674024| 2.737370005924961| 2.780862529393028|                null|  1.005066518422947|     null|            2.1529994938221777|       4.730284672920486|   5.97933032210761|                                null|         null|                null|    22.541241126253354|\n",
            "| stddev| 6.307837845023282E7|12.927808849316946|   6319816.780656203|                null|      null|      null|                null|                null|                null|                null|                null|                null|                null|                  null|                null|                null|       null|  10.25641694462213|     null|14.525694845627896|2366.1874698933675|0.5012339716971769|0.5125510519984791|0.4136620225905973|                null|0.09729443339137027|     null|            2.1485810932070386|       2.920805607087884|  2.710470270551644|                                null|         null|                null|    12.681281096066106|\n",
            "|    min|             1030101|                27|               30612|      Administrative|01/01/2001|01/01/2001|01/01/2001 01:00:...|01/01/2001 01:01:...|01/01/2001 01:01:...|01/01/2001 01:01:...|01/01/2001 01:00:...|01/01/2001 01:04:...|01/01/2001 01:04:...|  Against Medical A...|01/01/2001 01:00:...|*** 4563/ A2/ TCA...|         AI|              94102|       3E|                01|              0123|                 1|                 1|                 2|               Alarm|                  1|  AIRPORT|                             1|                       1|                  1|                Bayview Hunters P...|001030101-E18|POINT (-122.33257...|                     1|\n",
            "|    max|           220910625|              VAN9|            22041508|Watercraft in Dis...|12/31/2021|12/31/2021|12/31/2021 12:59:...|12/31/2021 12:58:...|12/31/2021 12:59:...|12/31/2021 12:59:...|12/31/2021 12:59:...|12/31/2021 12:59:...|12/31/2021 12:59:...|      Unable to Locate|12/31/2021 12:59:...|     ZOE ST/WELSH ST|Yerba Buena|              94158|      B99|                F3|              SS02|                 T|                 T|                 3|Potentially Life-...|                  5|    TRUCK|                           104|                    None|               None|                    Western Addition| 220910625-94|POINT (-122.51364...|                    41|\n",
            "+-------+--------------------+------------------+--------------------+--------------------+----------+----------+--------------------+--------------------+--------------------+--------------------+--------------------+--------------------+--------------------+----------------------+--------------------+--------------------+-----------+-------------------+---------+------------------+------------------+------------------+------------------+------------------+--------------------+-------------------+---------+------------------------------+------------------------+-------------------+------------------------------------+-------------+--------------------+----------------------+\n",
            "\n"
          ]
        }
      ]
    },
    {
      "cell_type": "markdown",
      "source": [
        "How many different unique  Call Final Disposition you made to the fire department"
      ],
      "metadata": {
        "id": "gOUzWICYVK7g"
      }
    },
    {
      "cell_type": "code",
      "source": [
        "fireServiceCallDf.select(\"Call Final Disposition\").distinct().show()"
      ],
      "metadata": {
        "colab": {
          "base_uri": "https://localhost:8080/"
        },
        "id": "Lc6rYVFlQunz",
        "outputId": "db4c5d3a-6786-4172-ceaa-3a33cff07b09"
      },
      "execution_count": null,
      "outputs": [
        {
          "output_type": "stream",
          "name": "stdout",
          "text": [
            "+----------------------+\n",
            "|Call Final Disposition|\n",
            "+----------------------+\n",
            "|      Medical Examiner|\n",
            "|             Duplicate|\n",
            "|                   CHP|\n",
            "|              No Merit|\n",
            "|  Patient Declined ...|\n",
            "|       Gone on Arrival|\n",
            "|      Unable to Locate|\n",
            "|             Cancelled|\n",
            "|                  SFPD|\n",
            "|                 Other|\n",
            "|  Against Medical A...|\n",
            "|      Code 3 Transport|\n",
            "|                  Fire|\n",
            "|      Code 2 Transport|\n",
            "|  Multi-casualty In...|\n",
            "+----------------------+\n",
            "\n"
          ]
        }
      ]
    },
    {
      "cell_type": "markdown",
      "source": [
        "How many incidents of each call types were there"
      ],
      "metadata": {
        "id": "VpL14HJ4VyUs"
      }
    },
    {
      "cell_type": "code",
      "source": [
        "fireServiceCallDf.select(\"Call Type\").groupby('Call Type').count().orderBy(\"count\",ascending=False).show()"
      ],
      "metadata": {
        "colab": {
          "base_uri": "https://localhost:8080/"
        },
        "id": "4-f7dGkWRmCZ",
        "outputId": "6171b58d-bc62-4f40-859e-f8952d8168b2"
      },
      "execution_count": null,
      "outputs": [
        {
          "output_type": "stream",
          "name": "stdout",
          "text": [
            "+--------------------+-------+\n",
            "|           Call Type|  count|\n",
            "+--------------------+-------+\n",
            "|    Medical Incident|3822362|\n",
            "|      Structure Fire| 701713|\n",
            "|              Alarms| 640924|\n",
            "|   Traffic Collision| 238050|\n",
            "|               Other|  94770|\n",
            "|Citizen Assist / ...|  86921|\n",
            "|        Outside Fire|  73883|\n",
            "|        Water Rescue|  30609|\n",
            "|        Vehicle Fire|  26662|\n",
            "|Gas Leak (Natural...|  25408|\n",
            "|   Electrical Hazard|  18729|\n",
            "|Elevator / Escala...|  15944|\n",
            "|Odor (Strange / U...|  13224|\n",
            "|Smoke Investigati...|  13202|\n",
            "|          Fuel Spill|   6509|\n",
            "|              HazMat|   4266|\n",
            "|Industrial Accidents|   3163|\n",
            "|           Explosion|   2929|\n",
            "|Train / Rail Inci...|   1530|\n",
            "|  Aircraft Emergency|   1512|\n",
            "+--------------------+-------+\n",
            "only showing top 20 rows\n",
            "\n"
          ]
        }
      ]
    },
    {
      "cell_type": "code",
      "source": [
        "fireServiceCallDf.printSchema()"
      ],
      "metadata": {
        "colab": {
          "base_uri": "https://localhost:8080/"
        },
        "id": "ZskebvXAWn7Z",
        "outputId": "b49d870c-37ef-4460-a701-62ab1f2cf28b"
      },
      "execution_count": null,
      "outputs": [
        {
          "output_type": "stream",
          "name": "stdout",
          "text": [
            "root\n",
            " |-- Call Number: integer (nullable = true)\n",
            " |-- Unit ID: string (nullable = true)\n",
            " |-- Incident Number: integer (nullable = true)\n",
            " |-- Call Type: string (nullable = true)\n",
            " |-- Call Date: string (nullable = true)\n",
            " |-- Watch Date: string (nullable = true)\n",
            " |-- Received DtTm: string (nullable = true)\n",
            " |-- Entry DtTm: string (nullable = true)\n",
            " |-- Dispatch DtTm: string (nullable = true)\n",
            " |-- Response DtTm: string (nullable = true)\n",
            " |-- On Scene DtTm: string (nullable = true)\n",
            " |-- Transport DtTm: string (nullable = true)\n",
            " |-- Hospital DtTm: string (nullable = true)\n",
            " |-- Call Final Disposition: string (nullable = true)\n",
            " |-- Available DtTm: string (nullable = true)\n",
            " |-- Address: string (nullable = true)\n",
            " |-- City: string (nullable = true)\n",
            " |-- Zipcode of Incident: integer (nullable = true)\n",
            " |-- Battalion: string (nullable = true)\n",
            " |-- Station Area: string (nullable = true)\n",
            " |-- Box: string (nullable = true)\n",
            " |-- Original Priority: string (nullable = true)\n",
            " |-- Priority: string (nullable = true)\n",
            " |-- Final Priority: integer (nullable = true)\n",
            " |-- ALS Unit: boolean (nullable = true)\n",
            " |-- Call Type Group: string (nullable = true)\n",
            " |-- Number of Alarms: integer (nullable = true)\n",
            " |-- Unit Type: string (nullable = true)\n",
            " |-- Unit sequence in call dispatch: integer (nullable = true)\n",
            " |-- Fire Prevention District: string (nullable = true)\n",
            " |-- Supervisor District: string (nullable = true)\n",
            " |-- Neighborhooods - Analysis Boundaries: string (nullable = true)\n",
            " |-- RowID: string (nullable = true)\n",
            " |-- case_location: string (nullable = true)\n",
            " |-- Analysis Neighborhoods: integer (nullable = true)\n",
            "\n"
          ]
        }
      ]
    },
    {
      "cell_type": "markdown",
      "source": [
        "Converting string into timestamp(unix_timestamp)"
      ],
      "metadata": {
        "id": "ml4ZB38jbfsp"
      }
    },
    {
      "cell_type": "markdown",
      "source": [
        "Analysing Null values"
      ],
      "metadata": {
        "id": "KnZaQh3gemHy"
      }
    },
    {
      "cell_type": "code",
      "source": [
        "import pyspark.sql.functions as F"
      ],
      "metadata": {
        "id": "xgYi6gDVdTC6"
      },
      "execution_count": null,
      "outputs": []
    },
    {
      "cell_type": "code",
      "source": [
        "fireServiceCallDf.select([F.count(F.when(F.isnull(c), c)).alias(c) for c in fireServiceCallDf.columns]).show()"
      ],
      "metadata": {
        "colab": {
          "base_uri": "https://localhost:8080/"
        },
        "id": "iQa-fc6WdsY2",
        "outputId": "43e4cae3-ed04-45cf-d975-112de534d0e4"
      },
      "execution_count": null,
      "outputs": [
        {
          "output_type": "stream",
          "name": "stdout",
          "text": [
            "+-----------+-------+---------------+---------+---------+----------+-------------+----------+-------------+-------------+-------------+--------------+-------------+----------------------+--------------+-------+----+-------------------+---------+------------+---+-----------------+--------+--------------+--------+---------------+----------------+---------+------------------------------+------------------------+-------------------+------------------------------------+-----+-------------+----------------------+\n",
            "|Call Number|Unit ID|Incident Number|Call Type|Call Date|Watch Date|Received DtTm|Entry DtTm|Dispatch DtTm|Response DtTm|On Scene DtTm|Transport DtTm|Hospital DtTm|Call Final Disposition|Available DtTm|Address|City|Zipcode of Incident|Battalion|Station Area|Box|Original Priority|Priority|Final Priority|ALS Unit|Call Type Group|Number of Alarms|Unit Type|Unit sequence in call dispatch|Fire Prevention District|Supervisor District|Neighborhooods - Analysis Boundaries|RowID|case_location|Analysis Neighborhoods|\n",
            "+-----------+-------+---------------+---------+---------+----------+-------------+----------+-------------+-------------+-------------+--------------+-------------+----------------------+--------------+-------+----+-------------------+---------+------------+---+-----------------+--------+--------------+--------+---------------+----------------+---------+------------------------------+------------------------+-------------------+------------------------------------+-----+-------------+----------------------+\n",
            "|          0|      0|              0|        0|        0|         0|            0|         0|            0|       428355|      1297589|       4294308|      4430804|                     0|         77072|      0|8646|              14672|        0|        2398|466|            25538|       3|             0|       0|        2815825|               0|        0|                            72|                       0|                  0|                                   0|    0|          952|                 17528|\n",
            "+-----------+-------+---------------+---------+---------+----------+-------------+----------+-------------+-------------+-------------+--------------+-------------+----------------------+--------------+-------+----+-------------------+---------+------------+---+-----------------+--------+--------------+--------+---------------+----------------+---------+------------------------------+------------------------+-------------------+------------------------------------+-----+-------------+----------------------+\n",
            "\n"
          ]
        }
      ]
    },
    {
      "cell_type": "code",
      "source": [
        "from pyspark.sql.functions import *"
      ],
      "metadata": {
        "id": "twi7zpTRb6vb"
      },
      "execution_count": null,
      "outputs": []
    },
    {
      "cell_type": "code",
      "source": [
        "from pyspark.sql.functions import col,exp,when,coalesce,lit"
      ],
      "metadata": {
        "id": "kHSGkHkkgI89"
      },
      "execution_count": null,
      "outputs": []
    },
    {
      "cell_type": "code",
      "source": [
        "from_pattern1='MM/dd/yyyy'\n",
        "to_pattern1='yyyy-MM-dd'\n",
        "\n",
        "from_pattern2='MM/dd/yyyy hh:mm:ss aa'\n",
        "to_pattern2='MM/dd/yyyy hh:mm:ss aa'"
      ],
      "metadata": {
        "id": "l_rPNJ7wZxZc"
      },
      "execution_count": null,
      "outputs": []
    },
    {
      "cell_type": "code",
      "source": [
        "fireServiceCallDf1=fireServiceCallDf.withColumn('Call Date1',unix_timestamp(fireServiceCallDf['Call Date'],from_pattern1).cast(\"timestamp\")).drop('Call Date')\\\n",
        ".withColumn('Watch Date1',unix_timestamp(fireServiceCallDf['Watch Date'],from_pattern1).cast(\"timestamp\")).drop('Watch Date')\\\n",
        ".withColumn('Received DtTm1',unix_timestamp(fireServiceCallDf['Received DtTm'],from_pattern1).cast(\"timestamp\")).drop('Received DtTm')\\\n",
        ".withColumn('Entry DtTm1',unix_timestamp(fireServiceCallDf['Entry DtTm'],from_pattern1).cast(\"timestamp\")).drop('Entry DtTm')\\\n",
        ".withColumn('Dispatch DtTm1',unix_timestamp(fireServiceCallDf['Dispatch DtTm'],from_pattern1).cast(\"timestamp\")).drop('v')\\\n",
        ".withColumn('Response DtTm1',unix_timestamp(fireServiceCallDf['Response DtTm'],from_pattern1).cast(\"timestamp\")).drop('Response DtTm')\\\n",
        ".withColumn('On Scene DtTm1',unix_timestamp(fireServiceCallDf['On Scene DtTm'],from_pattern1).cast(\"timestamp\")).drop('On Scene DtTm')\\\n",
        ".withColumn('Transport DtTm1',unix_timestamp(fireServiceCallDf['Transport DtTm'],from_pattern1).cast(\"timestamp\")).drop('Transport DtTm')\\\n",
        ".withColumn('Hospital DtTm1',unix_timestamp(fireServiceCallDf['Hospital DtTm'],from_pattern1).cast(\"timestamp\")).drop('Hospital DtTm')\\\n",
        ".withColumn('Available DtTm1',unix_timestamp(fireServiceCallDf['Available DtTm'],from_pattern1).cast(\"timestamp\")).drop('Available DtTm')\\"
      ],
      "metadata": {
        "id": "wEwGxU6zbd6c"
      },
      "execution_count": null,
      "outputs": []
    },
    {
      "cell_type": "code",
      "source": [
        "fireServiceCallDf1.printSchema()"
      ],
      "metadata": {
        "colab": {
          "base_uri": "https://localhost:8080/"
        },
        "id": "ocCfyykcifZs",
        "outputId": "f2b389c9-c6e3-417a-dced-74390a3ba4aa"
      },
      "execution_count": null,
      "outputs": [
        {
          "output_type": "stream",
          "name": "stdout",
          "text": [
            "root\n",
            " |-- Call Number: integer (nullable = true)\n",
            " |-- Unit ID: string (nullable = true)\n",
            " |-- Incident Number: integer (nullable = true)\n",
            " |-- Call Type: string (nullable = true)\n",
            " |-- Dispatch DtTm: string (nullable = true)\n",
            " |-- Call Final Disposition: string (nullable = true)\n",
            " |-- Address: string (nullable = true)\n",
            " |-- City: string (nullable = true)\n",
            " |-- Zipcode of Incident: integer (nullable = true)\n",
            " |-- Battalion: string (nullable = true)\n",
            " |-- Station Area: string (nullable = true)\n",
            " |-- Box: string (nullable = true)\n",
            " |-- Original Priority: string (nullable = true)\n",
            " |-- Priority: string (nullable = true)\n",
            " |-- Final Priority: integer (nullable = true)\n",
            " |-- ALS Unit: boolean (nullable = true)\n",
            " |-- Call Type Group: string (nullable = true)\n",
            " |-- Number of Alarms: integer (nullable = true)\n",
            " |-- Unit Type: string (nullable = true)\n",
            " |-- Unit sequence in call dispatch: integer (nullable = true)\n",
            " |-- Fire Prevention District: string (nullable = true)\n",
            " |-- Supervisor District: string (nullable = true)\n",
            " |-- Neighborhooods - Analysis Boundaries: string (nullable = true)\n",
            " |-- RowID: string (nullable = true)\n",
            " |-- case_location: string (nullable = true)\n",
            " |-- Analysis Neighborhoods: integer (nullable = true)\n",
            " |-- Call Date1: timestamp (nullable = true)\n",
            " |-- Watch Date1: timestamp (nullable = true)\n",
            " |-- Received DtTm1: timestamp (nullable = true)\n",
            " |-- Entry DtTm1: timestamp (nullable = true)\n",
            " |-- Dispatch DtTm1: timestamp (nullable = true)\n",
            " |-- Response DtTm1: timestamp (nullable = true)\n",
            " |-- On Scene DtTm1: timestamp (nullable = true)\n",
            " |-- Transport DtTm1: timestamp (nullable = true)\n",
            " |-- Hospital DtTm1: timestamp (nullable = true)\n",
            " |-- Available DtTm1: timestamp (nullable = true)\n",
            "\n"
          ]
        }
      ]
    },
    {
      "cell_type": "markdown",
      "source": [
        "How many distinct years of data in this data"
      ],
      "metadata": {
        "id": "S6jMPzO3a0B8"
      }
    },
    {
      "cell_type": "code",
      "source": [
        "fireServiceCallDf1.select(year('Call Date1')).distinct().orderBy('year(Call Date1)').show()"
      ],
      "metadata": {
        "colab": {
          "base_uri": "https://localhost:8080/"
        },
        "id": "7G8zK4MSn3E7",
        "outputId": "607c7eb0-1091-4d1b-82c5-d21782d68071"
      },
      "execution_count": null,
      "outputs": [
        {
          "output_type": "stream",
          "name": "stdout",
          "text": [
            "+----------------+\n",
            "|year(Call Date1)|\n",
            "+----------------+\n",
            "|            2000|\n",
            "|            2001|\n",
            "|            2002|\n",
            "|            2003|\n",
            "|            2004|\n",
            "|            2005|\n",
            "|            2006|\n",
            "|            2007|\n",
            "|            2008|\n",
            "|            2009|\n",
            "|            2010|\n",
            "|            2011|\n",
            "|            2012|\n",
            "|            2013|\n",
            "|            2014|\n",
            "|            2015|\n",
            "|            2016|\n",
            "|            2017|\n",
            "|            2018|\n",
            "|            2019|\n",
            "+----------------+\n",
            "only showing top 20 rows\n",
            "\n"
          ]
        }
      ]
    },
    {
      "cell_type": "markdown",
      "source": [
        "How many service calls were logged in the past 7 days?"
      ],
      "metadata": {
        "id": "idud63ZMot3u"
      }
    },
    {
      "cell_type": "code",
      "source": [
        "fireServiceCallDf1.filter(year('Call Date1')=='2019').filter(dayofyear('Call Date1') >= 360).select(dayofyear('Call Date1')).distinct().orderBy('dayofyear(Call Date1)').show()"
      ],
      "metadata": {
        "colab": {
          "base_uri": "https://localhost:8080/"
        },
        "id": "BDagl_fgoxge",
        "outputId": "23360a8d-0509-4a02-8536-48a5f9001a03"
      },
      "execution_count": null,
      "outputs": [
        {
          "output_type": "stream",
          "name": "stdout",
          "text": [
            "+---------------------+\n",
            "|dayofyear(Call Date1)|\n",
            "+---------------------+\n",
            "|                  360|\n",
            "|                  361|\n",
            "|                  362|\n",
            "|                  363|\n",
            "|                  364|\n",
            "|                  365|\n",
            "+---------------------+\n",
            "\n"
          ]
        }
      ]
    },
    {
      "cell_type": "code",
      "source": [
        "fireServiceCallDf1.filter(year('Call Date1') == '2016').filter(dayofyear('Call Date1') >= 360).groupBy(dayofyear('Call Date1')).count().orderBy('dayofyear(Call Date1)').show()"
      ],
      "metadata": {
        "colab": {
          "base_uri": "https://localhost:8080/"
        },
        "id": "nEdqAUYqrai1",
        "outputId": "060af5f8-cc82-4319-ebf3-03ff7c301188"
      },
      "execution_count": null,
      "outputs": [
        {
          "output_type": "stream",
          "name": "stdout",
          "text": [
            "+---------------------+-----+\n",
            "|dayofyear(Call Date1)|count|\n",
            "+---------------------+-----+\n",
            "|                  360|  719|\n",
            "|                  361|  745|\n",
            "|                  362|  767|\n",
            "|                  363|  884|\n",
            "|                  364|  829|\n",
            "|                  365|  912|\n",
            "|                  366|  852|\n",
            "+---------------------+-----+\n",
            "\n"
          ]
        }
      ]
    },
    {
      "cell_type": "code",
      "source": [
        "fireServiceCallDf1.rdd.getNumPartitions()"
      ],
      "metadata": {
        "colab": {
          "base_uri": "https://localhost:8080/"
        },
        "id": "JARhkpVjQ8s7",
        "outputId": "fa1e806a-cff0-454d-ab7a-f78e19c0b40f"
      },
      "execution_count": null,
      "outputs": [
        {
          "output_type": "execute_result",
          "data": {
            "text/plain": [
              "17"
            ]
          },
          "metadata": {},
          "execution_count": 35
        }
      ]
    },
    {
      "cell_type": "code",
      "source": [
        ""
      ],
      "metadata": {
        "id": "KbyPoX6dWmJn"
      },
      "execution_count": null,
      "outputs": []
    }
  ]
}